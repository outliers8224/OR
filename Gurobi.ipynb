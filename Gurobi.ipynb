{
  "nbformat": 4,
  "nbformat_minor": 0,
  "metadata": {
    "colab": {
      "provenance": [],
      "authorship_tag": "ABX9TyMHuiNC8bhuve079ovk0wWv",
      "include_colab_link": true
    },
    "kernelspec": {
      "name": "python3",
      "display_name": "Python 3"
    },
    "language_info": {
      "name": "python"
    }
  },
  "cells": [
    {
      "cell_type": "markdown",
      "metadata": {
        "id": "view-in-github",
        "colab_type": "text"
      },
      "source": [
        "<a href=\"https://colab.research.google.com/github/outliers8224/OR/blob/main/Gurobi.ipynb\" target=\"_parent\"><img src=\"https://colab.research.google.com/assets/colab-badge.svg\" alt=\"Open In Colab\"/></a>"
      ]
    },
    {
      "cell_type": "code",
      "execution_count": null,
      "metadata": {
        "colab": {
          "base_uri": "https://localhost:8080/"
        },
        "id": "lKDPkcasTHFN",
        "outputId": "a80c9475-f560-4f96-b0ce-6a588b4c495a"
      },
      "outputs": [
        {
          "output_type": "stream",
          "name": "stdout",
          "text": [
            "Collecting gurobipy\n",
            "  Downloading gurobipy-11.0.2-cp310-cp310-manylinux2014_x86_64.manylinux_2_17_x86_64.whl (13.4 MB)\n",
            "\u001b[2K     \u001b[90m━━━━━━━━━━━━━━━━━━━━━━━━━━━━━━━━━━━━━━━━\u001b[0m \u001b[32m13.4/13.4 MB\u001b[0m \u001b[31m24.1 MB/s\u001b[0m eta \u001b[36m0:00:00\u001b[0m\n",
            "\u001b[?25hInstalling collected packages: gurobipy\n",
            "Successfully installed gurobipy-11.0.2\n"
          ]
        }
      ],
      "source": [
        " !pip install gurobipy"
      ]
    },
    {
      "cell_type": "markdown",
      "source": [
        " steps for solving LP problems using gurobipy:\n",
        " ===\n",
        "\n",
        "Initialize Model   \n",
        "Define Decision Variable   \n",
        "Define Objective Function   \n",
        "Define the Constraints   \n",
        "Solve Model"
      ],
      "metadata": {
        "id": "K_lNn_EZTeo7"
      }
    },
    {
      "cell_type": "code",
      "source": [
        "from gurobipy import *"
      ],
      "metadata": {
        "id": "QJ1O3cETTqxy"
      },
      "execution_count": null,
      "outputs": []
    },
    {
      "cell_type": "code",
      "source": [
        "model = Model()"
      ],
      "metadata": {
        "colab": {
          "base_uri": "https://localhost:8080/"
        },
        "id": "c4bpTLvNUB9J",
        "outputId": "ffc45e3b-fa14-4855-e99b-d2fb6cf13222"
      },
      "execution_count": null,
      "outputs": [
        {
          "output_type": "stream",
          "name": "stdout",
          "text": [
            "Restricted license - for non-production use only - expires 2025-11-24\n"
          ]
        }
      ]
    },
    {
      "cell_type": "code",
      "source": [
        "#varialbles\n",
        "x1 = model.addVar(vtype=\"C\", name=\"x1\")\n",
        "x2 = model.addVar(vtype=\"C\", name=\"x2\")"
      ],
      "metadata": {
        "id": "kLmgHbZ0UHoL"
      },
      "execution_count": null,
      "outputs": []
    },
    {
      "cell_type": "code",
      "source": [
        "#objective function\n",
        "model.setObjective(4*x1 + 5*x2 , GRB.MINIMIZE)"
      ],
      "metadata": {
        "id": "gRoERhCIUbIJ"
      },
      "execution_count": null,
      "outputs": []
    },
    {
      "cell_type": "code",
      "source": [
        "#constraints\n",
        "model.addConstr(3*x1 + 5*x2 >= 30, \"c1\")\n",
        "model.addConstr(3*x1 + 2*x2 >= 24, \"c2\")\n",
        "model.addConstr(x1  >= 0, \"c3\")\n",
        "model.addConstr(x2  >= 0, \"c4\")"
      ],
      "metadata": {
        "colab": {
          "base_uri": "https://localhost:8080/"
        },
        "id": "g1-aN9XVUjHR",
        "outputId": "0e41c209-5a5d-4e38-9082-0417c549ca07"
      },
      "execution_count": null,
      "outputs": [
        {
          "output_type": "execute_result",
          "data": {
            "text/plain": [
              "<gurobi.Constr *Awaiting Model Update*>"
            ]
          },
          "metadata": {},
          "execution_count": 9
        }
      ]
    },
    {
      "cell_type": "code",
      "source": [
        "model.optimize()\n",
        "for i in model.getVars():\n",
        "  print(i.VarName,round(i.x,2))\n",
        "\n",
        "print(\"Minimized profit\",round(model.ObjVal,3))"
      ],
      "metadata": {
        "colab": {
          "base_uri": "https://localhost:8080/"
        },
        "id": "lg8Y2agDVyPS",
        "outputId": "b203b0f9-21fa-40bf-c102-8da965cc7d81"
      },
      "execution_count": null,
      "outputs": [
        {
          "output_type": "stream",
          "name": "stdout",
          "text": [
            "Gurobi Optimizer version 11.0.2 build v11.0.2rc0 (linux64 - \"Ubuntu 22.04.3 LTS\")\n",
            "\n",
            "CPU model: Intel(R) Xeon(R) CPU @ 2.20GHz, instruction set [SSE2|AVX|AVX2]\n",
            "Thread count: 1 physical cores, 2 logical processors, using up to 2 threads\n",
            "\n",
            "Optimize a model with 4 rows, 2 columns and 6 nonzeros\n",
            "Coefficient statistics:\n",
            "  Matrix range     [1e+00, 5e+00]\n",
            "  Objective range  [4e+00, 5e+00]\n",
            "  Bounds range     [0e+00, 0e+00]\n",
            "  RHS range        [2e+01, 3e+01]\n",
            "\n",
            "Solved in 0 iterations and 0.01 seconds (0.00 work units)\n",
            "Optimal objective  3.666666667e+01\n",
            "x1 6.67\n",
            "x2 2.0\n",
            "Minimized profit 36.667\n"
          ]
        }
      ]
    },
    {
      "cell_type": "code",
      "source": [],
      "metadata": {
        "id": "EdnNlyqgWgKC"
      },
      "execution_count": null,
      "outputs": []
    }
  ]
}